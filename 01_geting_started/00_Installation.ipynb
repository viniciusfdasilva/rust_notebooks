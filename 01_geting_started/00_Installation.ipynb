{
 "cells": [
  {
   "cell_type": "markdown",
   "id": "14550fee-0ae7-4870-b779-3d03b9d79b2b",
   "metadata": {},
   "source": [
    "## 😊 Installing rustup on Linux or macOS\n",
    "\n",
    "If you’re using Linux or macOS, open a terminal and enter the following command:\n",
    "\n",
    "```sh\n",
    "$ curl --proto '=https' --tlsv1.2 https://sh.rustup.rs -sSf | sh\n",
    "```\n",
    "\n",
    "The command downloads a script and starts the installation of the `rustup` tool, which installs the latest stable version of Rust. You might be prompted for your password. If the install is successful, the following line will appear:\n",
    "\n",
    "```sh\n",
    "Rust is installed now. Great!\n",
    "```\n",
    "\n",
    "## 😊 Updating and 😭 Uninstalling\n",
    "\n",
    "Once Rust is installed via `rustup`, updating to a newly released version is easy. From your shell, run the following update script:\n",
    "\n",
    "```sh\n",
    "$ rustup update\n",
    "```\n",
    "\n",
    "```sh\n",
    "$ rustup self uninstall\n",
    "```"
   ]
  }
 ],
 "metadata": {
  "kernelspec": {
   "display_name": "Rust",
   "language": "rust",
   "name": "rust"
  },
  "language_info": {
   "codemirror_mode": "rust",
   "file_extension": ".rs",
   "mimetype": "text/rust",
   "name": "Rust",
   "pygment_lexer": "rust",
   "version": ""
  }
 },
 "nbformat": 4,
 "nbformat_minor": 5
}
